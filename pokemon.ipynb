{
 "cells": [
  {
   "cell_type": "code",
   "execution_count": 31,
   "metadata": {},
   "outputs": [],
   "source": [
    "# Leonardo Schunck Rainha - 99902\n",
    "# Kayky Oliveira Schunck - 99756\n",
    "import pandas as pd\n",
    "import numpy as np"
   ]
  },
  {
   "cell_type": "code",
   "execution_count": 32,
   "metadata": {},
   "outputs": [],
   "source": [
    "poke = pd.read_csv(\"pokemons.csv\", encoding='latin1')"
   ]
  },
  {
   "cell_type": "code",
   "execution_count": 33,
   "metadata": {},
   "outputs": [
    {
     "data": {
      "text/html": [
       "<div>\n",
       "<style scoped>\n",
       "    .dataframe tbody tr th:only-of-type {\n",
       "        vertical-align: middle;\n",
       "    }\n",
       "\n",
       "    .dataframe tbody tr th {\n",
       "        vertical-align: top;\n",
       "    }\n",
       "\n",
       "    .dataframe thead th {\n",
       "        text-align: right;\n",
       "    }\n",
       "</style>\n",
       "<table border=\"1\" class=\"dataframe\">\n",
       "  <thead>\n",
       "    <tr style=\"text-align: right;\">\n",
       "      <th></th>\n",
       "      <th>496</th>\n",
       "      <th>706</th>\n",
       "      <th>160</th>\n",
       "    </tr>\n",
       "  </thead>\n",
       "  <tbody>\n",
       "    <tr>\n",
       "      <th>Name</th>\n",
       "      <td>Wormadam</td>\n",
       "      <td>Tynamo</td>\n",
       "      <td>Jynx</td>\n",
       "    </tr>\n",
       "    <tr>\n",
       "      <th>Name2</th>\n",
       "      <td>Plant Cloak</td>\n",
       "      <td>NaN</td>\n",
       "      <td>NaN</td>\n",
       "    </tr>\n",
       "    <tr>\n",
       "      <th>Primary Type</th>\n",
       "      <td>BUG</td>\n",
       "      <td>ELECTRIC</td>\n",
       "      <td>ICE</td>\n",
       "    </tr>\n",
       "    <tr>\n",
       "      <th>Secondary type</th>\n",
       "      <td>GRASS</td>\n",
       "      <td>NaN</td>\n",
       "      <td>PSYCHIC</td>\n",
       "    </tr>\n",
       "    <tr>\n",
       "      <th>Attack</th>\n",
       "      <td>59</td>\n",
       "      <td>55</td>\n",
       "      <td>50</td>\n",
       "    </tr>\n",
       "    <tr>\n",
       "      <th>Defense</th>\n",
       "      <td>85</td>\n",
       "      <td>40</td>\n",
       "      <td>35</td>\n",
       "    </tr>\n",
       "    <tr>\n",
       "      <th>HP</th>\n",
       "      <td>60</td>\n",
       "      <td>35</td>\n",
       "      <td>65</td>\n",
       "    </tr>\n",
       "    <tr>\n",
       "      <th>Sp.Attack</th>\n",
       "      <td>79</td>\n",
       "      <td>45</td>\n",
       "      <td>115</td>\n",
       "    </tr>\n",
       "    <tr>\n",
       "      <th>Sp.Defense</th>\n",
       "      <td>105</td>\n",
       "      <td>40</td>\n",
       "      <td>95</td>\n",
       "    </tr>\n",
       "    <tr>\n",
       "      <th>Speed</th>\n",
       "      <td>36</td>\n",
       "      <td>60</td>\n",
       "      <td>95</td>\n",
       "    </tr>\n",
       "    <tr>\n",
       "      <th>Total</th>\n",
       "      <td>424</td>\n",
       "      <td>275</td>\n",
       "      <td>455</td>\n",
       "    </tr>\n",
       "  </tbody>\n",
       "</table>\n",
       "</div>"
      ],
      "text/plain": [
       "                        496       706      160\n",
       "Name               Wormadam    Tynamo     Jynx\n",
       "Name2           Plant Cloak       NaN      NaN\n",
       "Primary Type            BUG  ELECTRIC      ICE\n",
       "Secondary type        GRASS       NaN  PSYCHIC\n",
       "Attack                   59        55       50\n",
       "Defense                  85        40       35\n",
       "HP                       60        35       65\n",
       "Sp.Attack                79        45      115\n",
       "Sp.Defense              105        40       95\n",
       "Speed                    36        60       95\n",
       "Total                   424       275      455"
      ]
     },
     "execution_count": 33,
     "metadata": {},
     "output_type": "execute_result"
    }
   ],
   "source": [
    "poke.sample(3).T"
   ]
  },
  {
   "attachments": {},
   "cell_type": "markdown",
   "metadata": {},
   "source": [
    "# Perguntas Pokemon CSV\n",
    "1. Qual tipo tem o melhor attack ?\n",
    "2. Qual tipo tem a melhor defesa ?\n",
    "3. Qual tipo tem mais Sp.Attack ?\n",
    "4. Qual tipo tem mais Sp.Defense ?\n",
    "5. Qual tipo tem mais HP ?\n",
    "6. Qual tipo tem mais velocidade ?\n",
    "7. Quais são os tipos mais frequentes ?\n",
    "8. Os pokemons tem mais Sp.Attack ou Sp.Defense ?\n",
    "9. Quantos porcento de pokémons tem mais de 1 tipo ?\n",
    "10. Qual letra tem mais pokémons ?"
   ]
  },
  {
   "cell_type": "code",
   "execution_count": 34,
   "metadata": {},
   "outputs": [
    {
     "data": {
      "text/plain": [
       "Primary Type\n",
       "DRAGON    107.02439\n",
       "Name: Attack, dtype: float64"
      ]
     },
     "execution_count": 34,
     "metadata": {},
     "output_type": "execute_result"
    }
   ],
   "source": [
    "# 1 - Qual tipo tem o melhor attack ?\n",
    "pokesStrenght = poke[['Primary Type', 'Attack']]\n",
    "allPokeTypesAttacks = pokesStrenght.groupby(by=['Primary Type'])[\"Attack\"].mean()\n",
    "pokeTypesAndAttacks = allPokeTypesAttacks.sort_values(ascending=False)\n",
    "\n",
    "# Resposta\n",
    "pokeTypesAndAttacks.head(1)"
   ]
  },
  {
   "cell_type": "code",
   "execution_count": 35,
   "metadata": {},
   "outputs": [
    {
     "data": {
      "text/plain": [
       "Primary Type\n",
       "STEEL    117.111111\n",
       "Name: Defense, dtype: float64"
      ]
     },
     "execution_count": 35,
     "metadata": {},
     "output_type": "execute_result"
    }
   ],
   "source": [
    "# 2 - Qual tipo tem a melhor defesa ?\n",
    "pokesDefense = poke[['Primary Type', 'Defense']]\n",
    "allPokeTypesDefense = pokesDefense.groupby(by=['Primary Type'])[\"Defense\"].mean()\n",
    "pokeTypesAndDefense = allPokeTypesDefense.sort_values(ascending=False)\n",
    "\n",
    "# Resposta\n",
    "pokeTypesAndDefense.head(1)"
   ]
  },
  {
   "cell_type": "code",
   "execution_count": 36,
   "metadata": {},
   "outputs": [
    {
     "data": {
      "text/plain": [
       "Primary Type\n",
       "PSYCHIC    99.075949\n",
       "Name: Sp.Attack, dtype: float64"
      ]
     },
     "execution_count": 36,
     "metadata": {},
     "output_type": "execute_result"
    }
   ],
   "source": [
    "# 3 - Qual tipo tem mais Sp.Attack ?\n",
    "pokesSpAttack = poke[['Primary Type', 'Sp.Attack']]\n",
    "allPokeTypesSpAttack = pokesSpAttack.groupby(by=['Primary Type'])[\"Sp.Attack\"].mean()\n",
    "pokeTypesAndSpAttack = allPokeTypesSpAttack.sort_values(ascending=False)\n",
    "\n",
    "# Resposta\n",
    "pokeTypesAndSpAttack.head(1)"
   ]
  },
  {
   "cell_type": "code",
   "execution_count": 37,
   "metadata": {},
   "outputs": [
    {
     "data": {
      "text/plain": [
       "Primary Type\n",
       "FAIRY    89.181818\n",
       "Name: Sp.Defense, dtype: float64"
      ]
     },
     "execution_count": 37,
     "metadata": {},
     "output_type": "execute_result"
    }
   ],
   "source": [
    "# 4 - Qual tipo tem mais Sp.Defense ?\n",
    "pokesSpDefense = poke[['Primary Type', 'Sp.Defense']]\n",
    "allPokeTypesSpDefense = pokesSpDefense.groupby(by=['Primary Type'])[\"Sp.Defense\"].mean()\n",
    "pokeTypesAndSpDefense = allPokeTypesSpDefense.sort_values(ascending=False)\n",
    "\n",
    "# Resposta\n",
    "pokeTypesAndSpDefense.head(1)"
   ]
  },
  {
   "cell_type": "code",
   "execution_count": 38,
   "metadata": {},
   "outputs": [
    {
     "data": {
      "text/plain": [
       "Primary Type\n",
       "DRAGON    85.243902\n",
       "Name: HP, dtype: float64"
      ]
     },
     "execution_count": 38,
     "metadata": {},
     "output_type": "execute_result"
    }
   ],
   "source": [
    "# 5 - Qual tipo tem mais HP ?\n",
    "pokesHP = poke[['Primary Type', 'HP']]\n",
    "allPokeTypesHP = pokesHP.groupby(by=['Primary Type'])[\"HP\"].mean()\n",
    "pokeTypesAndHP = allPokeTypesHP.sort_values(ascending=False)\n",
    "\n",
    "# Resposta\n",
    "pokeTypesAndHP.head(1)"
   ]
  },
  {
   "cell_type": "code",
   "execution_count": 39,
   "metadata": {},
   "outputs": [
    {
     "data": {
      "text/plain": [
       "Primary Type\n",
       "FLYING    87.0\n",
       "Name: Speed, dtype: float64"
      ]
     },
     "execution_count": 39,
     "metadata": {},
     "output_type": "execute_result"
    }
   ],
   "source": [
    "# 6 - Qual tipo tem mais velocidade ?\n",
    "pokesSpeed = poke[['Primary Type', 'Speed']]\n",
    "allPokeTypesSpeed = pokesSpeed.groupby(by=['Primary Type'])[\"Speed\"].mean()\n",
    "pokeTypesAndSpeed = allPokeTypesSpeed.sort_values(ascending=False)\n",
    "\n",
    "# Resposta\n",
    "pokeTypesAndSpeed.head(1)"
   ]
  },
  {
   "cell_type": "code",
   "execution_count": 42,
   "metadata": {},
   "outputs": [
    {
     "data": {
      "text/plain": [
       "Primary Type\n",
       "WATER     134\n",
       "NORMAL    115\n",
       "GRASS      91\n",
       "Name: count, dtype: int64"
      ]
     },
     "execution_count": 42,
     "metadata": {},
     "output_type": "execute_result"
    }
   ],
   "source": [
    "# 7 - Quais são os tipos mais frequentes ?\n",
    "type_counts = poke['Primary Type'].value_counts()\n",
    "sorted_types = type_counts.sort_values(ascending=False)\n",
    "\n",
    "# Resposta\n",
    "sorted_types.head(3)"
   ]
  },
  {
   "cell_type": "code",
   "execution_count": 46,
   "metadata": {},
   "outputs": [
    {
     "name": "stdout",
     "output_type": "stream",
     "text": [
      "Os pokemons tem mais Sp.Attack. Com uma média de 73.02200956937799\n"
     ]
    }
   ],
   "source": [
    "# 8 - Os pokémons tem mais Sp.Attack ou Sp.Defense ?\n",
    "countSpAttack = poke['Sp.Attack'].mean()\n",
    "countSpDefense = poke['Sp.Defense'].mean()\n",
    "\n",
    "if countSpAttack > countSpDefense :\n",
    "    print(f\"Os pokemons tem mais Sp.Attack. Com uma média de {countSpAttack}\")\n",
    "else :\n",
    "    print(f\"Os pokemons tem mais Sp.Defense. Com uma média de {countSpDefense}\")"
   ]
  },
  {
   "cell_type": "code",
   "execution_count": 71,
   "metadata": {},
   "outputs": [
    {
     "name": "stdout",
     "output_type": "stream",
     "text": [
      "52% dos Pokémons têm mais de um tipo.\n"
     ]
    }
   ],
   "source": [
    "import math\n",
    "# 9 - Quantos porcento de pokémons tem mais de 1 tipo ?\n",
    "pokes_with_secondary_type = poke[poke['Secondary type'].notna()]\n",
    "percentage_with_secondary_type = math.floor((len(pokes_with_secondary_type) / len(poke)) * 100)\n",
    "\n",
    "# Resposta\n",
    "print(f\"{percentage_with_secondary_type}% dos Pokémons têm mais de um tipo.\")"
   ]
  },
  {
   "cell_type": "code",
   "execution_count": 77,
   "metadata": {},
   "outputs": [
    {
     "data": {
      "text/plain": [
       "Name\n",
       "S    138\n",
       "Name: count, dtype: int64"
      ]
     },
     "execution_count": 77,
     "metadata": {},
     "output_type": "execute_result"
    }
   ],
   "source": [
    "# 10 - Qual letra tem mais pokémons ?\n",
    "first_lettes = poke['Name'].str[0]\n",
    "letter_counts = first_lettes.value_counts()\n",
    "sorted_letters = letter_counts.sort_values(ascending=False)\n",
    "\n",
    "# Resposta\n",
    "sorted_letters.head(1)"
   ]
  }
 ],
 "metadata": {
  "kernelspec": {
   "display_name": "Python 3",
   "language": "python",
   "name": "python3"
  },
  "language_info": {
   "codemirror_mode": {
    "name": "ipython",
    "version": 3
   },
   "file_extension": ".py",
   "mimetype": "text/x-python",
   "name": "python",
   "nbconvert_exporter": "python",
   "pygments_lexer": "ipython3",
   "version": "3.11.2"
  },
  "orig_nbformat": 4
 },
 "nbformat": 4,
 "nbformat_minor": 2
}
